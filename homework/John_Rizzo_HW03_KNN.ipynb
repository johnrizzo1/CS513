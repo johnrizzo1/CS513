{
 "cells": [
  {
   "cell_type": "markdown",
   "metadata": {},
   "source": [
    "Course      : CS513 - Knowledge Discovery and Data Mining\n",
    "First Name  : John\n",
    "Last Name   : Rizzo\n",
    "Student ID  : 20036833\n",
    "Purpose     : CS513_HW03_KNN"
   ]
  },
  {
   "cell_type": "markdown",
   "metadata": {},
   "source": [
    "The “breast cancer dataset” in CANVAS was obtained from the University of Wisconsin Hospitals, Madison from Dr. William H. Wolberg. The features in the dataset, described below, have been categorized from 1 to 10.\n",
    "Use the knn methodology (k=3,5 and 10) to develop a classification models for the Diagnosis. \n",
    "Use 30% test 70% training data. \n",
    "\n",
    "     Features                      Domain\n",
    "   -- -----------------------------------------\n",
    "   Sample code number               id number\n",
    "   F1. Clump Thickness               1 - 10\n",
    "   F2. Uniformity of Cell Size       1 - 10\n",
    "   F3. Uniformity of Cell Shape      1 - 10\n",
    "   F4. Marginal Adhesion             1 - 10\n",
    "   F5. Single Epithelial Cell Size   1 - 10\n",
    "   F6. Bare Nuclei                   1 - 10\n",
    "   F7. Bland Chromatin               1 - 10\n",
    "   F8. Normal Nucleoli               1 - 10\n",
    "   F9. Mitoses                       1 - 10\n",
    "   Diagnosis Class:                 (2 for benign, 4 for malignant)"
   ]
  },
  {
   "cell_type": "code",
   "execution_count": 1,
   "metadata": {},
   "outputs": [],
   "source": [
    "import random\n",
    "\n",
    "import numpy as np\n",
    "import pandas as pd\n",
    "\n",
    "import matplotlib.pyplot as plt\n",
    "import seaborn as sns\n",
    "\n",
    "from sklearn.model_selection import train_test_split\n",
    "from sklearn.preprocessing import MinMaxScaler\n",
    "from sklearn.neighbors import KNeighborsClassifier\n",
    "from sklearn.metrics import accuracy_score, classification_report, confusion_matrix\n",
    "\n",
    "# %matplotlib inline"
   ]
  },
  {
   "cell_type": "code",
   "execution_count": 2,
   "metadata": {},
   "outputs": [
    {
     "data": {
      "application/vnd.microsoft.datawrangler.viewer.v0+json": {
       "columns": [
        {
         "name": "index",
         "rawType": "int64",
         "type": "integer"
        },
        {
         "name": "Sample",
         "rawType": "Int64",
         "type": "integer"
        },
        {
         "name": "F1",
         "rawType": "Int64",
         "type": "integer"
        },
        {
         "name": "F2",
         "rawType": "Int64",
         "type": "integer"
        },
        {
         "name": "F3",
         "rawType": "Int64",
         "type": "integer"
        },
        {
         "name": "F4",
         "rawType": "Int64",
         "type": "integer"
        },
        {
         "name": "F5",
         "rawType": "Int64",
         "type": "integer"
        },
        {
         "name": "F6",
         "rawType": "Int64",
         "type": "integer"
        },
        {
         "name": "F7",
         "rawType": "Int64",
         "type": "integer"
        },
        {
         "name": "F8",
         "rawType": "Int64",
         "type": "integer"
        },
        {
         "name": "F9",
         "rawType": "Int64",
         "type": "integer"
        },
        {
         "name": "Class",
         "rawType": "Int64",
         "type": "integer"
        }
       ],
       "conversionMethod": "pd.DataFrame",
       "ref": "64b0d46b-bfcf-42cc-b3d0-f7f80f968f0d",
       "rows": [
        [
         "0",
         "1000025",
         "5",
         "1",
         "1",
         "1",
         "2",
         "1",
         "3",
         "1",
         "1",
         "2"
        ],
        [
         "1",
         "1002945",
         "5",
         "4",
         "4",
         "5",
         "7",
         "10",
         "3",
         "2",
         "1",
         "2"
        ],
        [
         "2",
         "1015425",
         "3",
         "1",
         "1",
         "1",
         "2",
         "2",
         "3",
         "1",
         "1",
         "2"
        ],
        [
         "3",
         "1016277",
         "6",
         "8",
         "8",
         "1",
         "3",
         "4",
         "3",
         "7",
         "1",
         "2"
        ],
        [
         "4",
         "1017023",
         "4",
         "1",
         "1",
         "3",
         "2",
         "1",
         "3",
         "1",
         "1",
         "2"
        ]
       ],
       "shape": {
        "columns": 11,
        "rows": 5
       }
      },
      "text/html": [
       "<div>\n",
       "<style scoped>\n",
       "    .dataframe tbody tr th:only-of-type {\n",
       "        vertical-align: middle;\n",
       "    }\n",
       "\n",
       "    .dataframe tbody tr th {\n",
       "        vertical-align: top;\n",
       "    }\n",
       "\n",
       "    .dataframe thead th {\n",
       "        text-align: right;\n",
       "    }\n",
       "</style>\n",
       "<table border=\"1\" class=\"dataframe\">\n",
       "  <thead>\n",
       "    <tr style=\"text-align: right;\">\n",
       "      <th></th>\n",
       "      <th>Sample</th>\n",
       "      <th>F1</th>\n",
       "      <th>F2</th>\n",
       "      <th>F3</th>\n",
       "      <th>F4</th>\n",
       "      <th>F5</th>\n",
       "      <th>F6</th>\n",
       "      <th>F7</th>\n",
       "      <th>F8</th>\n",
       "      <th>F9</th>\n",
       "      <th>Class</th>\n",
       "    </tr>\n",
       "  </thead>\n",
       "  <tbody>\n",
       "    <tr>\n",
       "      <th>0</th>\n",
       "      <td>1000025</td>\n",
       "      <td>5</td>\n",
       "      <td>1</td>\n",
       "      <td>1</td>\n",
       "      <td>1</td>\n",
       "      <td>2</td>\n",
       "      <td>1</td>\n",
       "      <td>3</td>\n",
       "      <td>1</td>\n",
       "      <td>1</td>\n",
       "      <td>2</td>\n",
       "    </tr>\n",
       "    <tr>\n",
       "      <th>1</th>\n",
       "      <td>1002945</td>\n",
       "      <td>5</td>\n",
       "      <td>4</td>\n",
       "      <td>4</td>\n",
       "      <td>5</td>\n",
       "      <td>7</td>\n",
       "      <td>10</td>\n",
       "      <td>3</td>\n",
       "      <td>2</td>\n",
       "      <td>1</td>\n",
       "      <td>2</td>\n",
       "    </tr>\n",
       "    <tr>\n",
       "      <th>2</th>\n",
       "      <td>1015425</td>\n",
       "      <td>3</td>\n",
       "      <td>1</td>\n",
       "      <td>1</td>\n",
       "      <td>1</td>\n",
       "      <td>2</td>\n",
       "      <td>2</td>\n",
       "      <td>3</td>\n",
       "      <td>1</td>\n",
       "      <td>1</td>\n",
       "      <td>2</td>\n",
       "    </tr>\n",
       "    <tr>\n",
       "      <th>3</th>\n",
       "      <td>1016277</td>\n",
       "      <td>6</td>\n",
       "      <td>8</td>\n",
       "      <td>8</td>\n",
       "      <td>1</td>\n",
       "      <td>3</td>\n",
       "      <td>4</td>\n",
       "      <td>3</td>\n",
       "      <td>7</td>\n",
       "      <td>1</td>\n",
       "      <td>2</td>\n",
       "    </tr>\n",
       "    <tr>\n",
       "      <th>4</th>\n",
       "      <td>1017023</td>\n",
       "      <td>4</td>\n",
       "      <td>1</td>\n",
       "      <td>1</td>\n",
       "      <td>3</td>\n",
       "      <td>2</td>\n",
       "      <td>1</td>\n",
       "      <td>3</td>\n",
       "      <td>1</td>\n",
       "      <td>1</td>\n",
       "      <td>2</td>\n",
       "    </tr>\n",
       "  </tbody>\n",
       "</table>\n",
       "</div>"
      ],
      "text/plain": [
       "    Sample  F1  F2  F3  F4  F5  F6  F7  F8  F9  Class\n",
       "0  1000025   5   1   1   1   2   1   3   1   1      2\n",
       "1  1002945   5   4   4   5   7  10   3   2   1      2\n",
       "2  1015425   3   1   1   1   2   2   3   1   1      2\n",
       "3  1016277   6   8   8   1   3   4   3   7   1      2\n",
       "4  1017023   4   1   1   3   2   1   3   1   1      2"
      ]
     },
     "execution_count": 2,
     "metadata": {},
     "output_type": "execute_result"
    }
   ],
   "source": [
    "coltype = {\n",
    "    'Sample': 'Int64',\n",
    "    'F1': 'Int64',\n",
    "    'F2': 'Int64',\n",
    "    'F3': 'Int64',\n",
    "    'F4': 'Int64',\n",
    "    'F5': 'Int64',\n",
    "    'F6': 'Int64',\n",
    "    'F7': 'Int64',\n",
    "    'F8': 'Int64',\n",
    "    'F9': 'Int64',\n",
    "    'Class': 'Int64'\n",
    "}\n",
    "\n",
    "folder = '../data/'\n",
    "\n",
    "df = pd.read_csv(folder + 'breast-cancer-wisconsin.csv',\n",
    "                 na_values='?', \n",
    "                 dtype=coltype)\n",
    "df.head()"
   ]
  },
  {
   "cell_type": "code",
   "execution_count": 3,
   "metadata": {},
   "outputs": [],
   "source": [
    "# Replacing the missing values with the mean of the column\n",
    "# this happens for F6\n",
    "df['F6']=df['F6'].fillna(df['F6'].mean().round())"
   ]
  },
  {
   "cell_type": "code",
   "execution_count": 4,
   "metadata": {},
   "outputs": [],
   "source": [
    "attr = df.drop(columns=['Class'])\n",
    "target = df['Class']\n",
    "\n",
    "scaler = MinMaxScaler()\n",
    "attr = pd.DataFrame(scaler.fit_transform(attr), columns=attr.columns)"
   ]
  },
  {
   "cell_type": "code",
   "execution_count": 5,
   "metadata": {},
   "outputs": [],
   "source": [
    "random_state = 42\n",
    "random.seed(random_state)\n",
    "\n",
    "# Splitting training set into 30% test and 70% train\n",
    "attr_train, attr_test, target_train, target_test = train_test_split(attr,\n",
    "                                                                    target,\n",
    "                                                                    test_size=0.3,\n",
    "                                                                    random_state=random_state,\n",
    "                                                                    shuffle=True)"
   ]
  },
  {
   "cell_type": "code",
   "execution_count": 6,
   "metadata": {},
   "outputs": [
    {
     "name": "stdout",
     "output_type": "stream",
     "text": [
      "Accuracy for k=3: 0.971\n",
      "Accuracy for k=5: 0.976\n",
      "Accuracy for k=10: 0.967\n"
     ]
    }
   ],
   "source": [
    "k_values = [3, 5, 10]\n",
    "\n",
    "for k in k_values:\n",
    "    knn = KNeighborsClassifier(n_neighbors=k)\n",
    "    knn.fit(attr_train, target_train)\n",
    "    target_pred = knn.predict(attr_test)\n",
    "    accuracy = accuracy_score(target_test, target_pred)\n",
    "    print(f'Accuracy for k={k}: {accuracy:.3f}')"
   ]
  },
  {
   "cell_type": "code",
   "execution_count": 7,
   "metadata": {},
   "outputs": [
    {
     "name": "stdout",
     "output_type": "stream",
     "text": [
      "Confusion Matrix\n",
      "[[141   2]\n",
      " [  5  62]]\n",
      "\n",
      "Accuracy score\n",
      "0.9666666666666667\n",
      "\n",
      "Classification Report\n",
      "              precision    recall  f1-score   support\n",
      "\n",
      "         2.0       0.97      0.99      0.98       143\n",
      "         4.0       0.97      0.93      0.95        67\n",
      "\n",
      "    accuracy                           0.97       210\n",
      "   macro avg       0.97      0.96      0.96       210\n",
      "weighted avg       0.97      0.97      0.97       210\n",
      "\n"
     ]
    }
   ],
   "source": [
    "cm=confusion_matrix(target_test, target_pred)\n",
    "\n",
    "print('Confusion Matrix')\n",
    "print(confusion_matrix(target_test, target_pred))\n",
    "print()\n",
    "print('Accuracy score')\n",
    "print(accuracy_score(target_test, target_pred))\n",
    "print()\n",
    "print('Classification Report')\n",
    "print(classification_report(target_test, target_pred))"
   ]
  },
  {
   "cell_type": "code",
   "execution_count": 8,
   "metadata": {},
   "outputs": [
    {
     "data": {
      "application/vnd.microsoft.datawrangler.viewer.v0+json": {
       "columns": [
        {
         "name": "index",
         "rawType": "int64",
         "type": "integer"
        },
        {
         "name": "Sample",
         "rawType": "float64",
         "type": "float"
        },
        {
         "name": "F1",
         "rawType": "float64",
         "type": "float"
        },
        {
         "name": "F2",
         "rawType": "float64",
         "type": "float"
        },
        {
         "name": "F3",
         "rawType": "float64",
         "type": "float"
        },
        {
         "name": "F4",
         "rawType": "float64",
         "type": "float"
        },
        {
         "name": "F5",
         "rawType": "float64",
         "type": "float"
        },
        {
         "name": "F6",
         "rawType": "float64",
         "type": "float"
        },
        {
         "name": "F7",
         "rawType": "float64",
         "type": "float"
        },
        {
         "name": "F8",
         "rawType": "float64",
         "type": "float"
        },
        {
         "name": "F9",
         "rawType": "float64",
         "type": "float"
        },
        {
         "name": "target_pred",
         "rawType": "float64",
         "type": "float"
        },
        {
         "name": "test_actual",
         "rawType": "Int64",
         "type": "integer"
        }
       ],
       "conversionMethod": "pd.DataFrame",
       "ref": "c216fea3-defb-45dd-a2df-26e704ef1c61",
       "rows": [
        [
         "158",
         "0.08452720351462638",
         "0.0",
         "0.0",
         "0.1111111111111111",
         "0.0",
         "0.2222222222222222",
         "0.3333333333333333",
         "0.0",
         "0.0",
         "0.0",
         "2.0",
         "2"
        ],
        [
         "499",
         "0.08633930767451387",
         "0.3333333333333333",
         "0.0",
         "0.0",
         "0.0",
         "0.1111111111111111",
         "0.0",
         "0.1111111111111111",
         "0.0",
         "0.0",
         "2.0",
         "2"
        ],
        [
         "396",
         "0.08322082194219275",
         "0.2222222222222222",
         "0.0",
         "0.0",
         "0.0",
         "0.1111111111111111",
         "0.0",
         "0.2222222222222222",
         "0.0",
         "0.0",
         "2.0",
         "2"
        ],
        [
         "155",
         "0.0844258051278314",
         "0.4444444444444445",
         "0.4444444444444445",
         "0.4444444444444445",
         "0.5555555555555556",
         "0.2222222222222222",
         "1.0",
         "0.2222222222222222",
         "0.0",
         "0.0",
         "4.0",
         "4"
        ],
        [
         "321",
         "0.05017689463781736",
         "0.2222222222222222",
         "0.0",
         "0.0",
         "0.0",
         "0.1111111111111111",
         "0.3333333333333333",
         "0.2222222222222222",
         "0.0",
         "0.0",
         "2.0",
         "2"
        ]
       ],
       "shape": {
        "columns": 12,
        "rows": 5
       }
      },
      "text/html": [
       "<div>\n",
       "<style scoped>\n",
       "    .dataframe tbody tr th:only-of-type {\n",
       "        vertical-align: middle;\n",
       "    }\n",
       "\n",
       "    .dataframe tbody tr th {\n",
       "        vertical-align: top;\n",
       "    }\n",
       "\n",
       "    .dataframe thead th {\n",
       "        text-align: right;\n",
       "    }\n",
       "</style>\n",
       "<table border=\"1\" class=\"dataframe\">\n",
       "  <thead>\n",
       "    <tr style=\"text-align: right;\">\n",
       "      <th></th>\n",
       "      <th>Sample</th>\n",
       "      <th>F1</th>\n",
       "      <th>F2</th>\n",
       "      <th>F3</th>\n",
       "      <th>F4</th>\n",
       "      <th>F5</th>\n",
       "      <th>F6</th>\n",
       "      <th>F7</th>\n",
       "      <th>F8</th>\n",
       "      <th>F9</th>\n",
       "      <th>target_pred</th>\n",
       "      <th>test_actual</th>\n",
       "    </tr>\n",
       "  </thead>\n",
       "  <tbody>\n",
       "    <tr>\n",
       "      <th>158</th>\n",
       "      <td>0.084527</td>\n",
       "      <td>0.000000</td>\n",
       "      <td>0.000000</td>\n",
       "      <td>0.111111</td>\n",
       "      <td>0.000000</td>\n",
       "      <td>0.222222</td>\n",
       "      <td>0.333333</td>\n",
       "      <td>0.000000</td>\n",
       "      <td>0.0</td>\n",
       "      <td>0.0</td>\n",
       "      <td>2.0</td>\n",
       "      <td>2</td>\n",
       "    </tr>\n",
       "    <tr>\n",
       "      <th>499</th>\n",
       "      <td>0.086339</td>\n",
       "      <td>0.333333</td>\n",
       "      <td>0.000000</td>\n",
       "      <td>0.000000</td>\n",
       "      <td>0.000000</td>\n",
       "      <td>0.111111</td>\n",
       "      <td>0.000000</td>\n",
       "      <td>0.111111</td>\n",
       "      <td>0.0</td>\n",
       "      <td>0.0</td>\n",
       "      <td>2.0</td>\n",
       "      <td>2</td>\n",
       "    </tr>\n",
       "    <tr>\n",
       "      <th>396</th>\n",
       "      <td>0.083221</td>\n",
       "      <td>0.222222</td>\n",
       "      <td>0.000000</td>\n",
       "      <td>0.000000</td>\n",
       "      <td>0.000000</td>\n",
       "      <td>0.111111</td>\n",
       "      <td>0.000000</td>\n",
       "      <td>0.222222</td>\n",
       "      <td>0.0</td>\n",
       "      <td>0.0</td>\n",
       "      <td>2.0</td>\n",
       "      <td>2</td>\n",
       "    </tr>\n",
       "    <tr>\n",
       "      <th>155</th>\n",
       "      <td>0.084426</td>\n",
       "      <td>0.444444</td>\n",
       "      <td>0.444444</td>\n",
       "      <td>0.444444</td>\n",
       "      <td>0.555556</td>\n",
       "      <td>0.222222</td>\n",
       "      <td>1.000000</td>\n",
       "      <td>0.222222</td>\n",
       "      <td>0.0</td>\n",
       "      <td>0.0</td>\n",
       "      <td>4.0</td>\n",
       "      <td>4</td>\n",
       "    </tr>\n",
       "    <tr>\n",
       "      <th>321</th>\n",
       "      <td>0.050177</td>\n",
       "      <td>0.222222</td>\n",
       "      <td>0.000000</td>\n",
       "      <td>0.000000</td>\n",
       "      <td>0.000000</td>\n",
       "      <td>0.111111</td>\n",
       "      <td>0.333333</td>\n",
       "      <td>0.222222</td>\n",
       "      <td>0.0</td>\n",
       "      <td>0.0</td>\n",
       "      <td>2.0</td>\n",
       "      <td>2</td>\n",
       "    </tr>\n",
       "  </tbody>\n",
       "</table>\n",
       "</div>"
      ],
      "text/plain": [
       "       Sample        F1        F2        F3        F4        F5        F6  \\\n",
       "158  0.084527  0.000000  0.000000  0.111111  0.000000  0.222222  0.333333   \n",
       "499  0.086339  0.333333  0.000000  0.000000  0.000000  0.111111  0.000000   \n",
       "396  0.083221  0.222222  0.000000  0.000000  0.000000  0.111111  0.000000   \n",
       "155  0.084426  0.444444  0.444444  0.444444  0.555556  0.222222  1.000000   \n",
       "321  0.050177  0.222222  0.000000  0.000000  0.000000  0.111111  0.333333   \n",
       "\n",
       "           F7   F8   F9  target_pred  test_actual  \n",
       "158  0.000000  0.0  0.0          2.0            2  \n",
       "499  0.111111  0.0  0.0          2.0            2  \n",
       "396  0.222222  0.0  0.0          2.0            2  \n",
       "155  0.222222  0.0  0.0          4.0            4  \n",
       "321  0.222222  0.0  0.0          2.0            2  "
      ]
     },
     "execution_count": 8,
     "metadata": {},
     "output_type": "execute_result"
    }
   ],
   "source": [
    "test_actual=attr_test\n",
    "test_actual['target_pred']=target_pred\n",
    "test_actual['test_actual']=target_test\n",
    "test_actual.head()"
   ]
  },
  {
   "cell_type": "code",
   "execution_count": 9,
   "metadata": {},
   "outputs": [
    {
     "name": "stdout",
     "output_type": "stream",
     "text": [
      "Confusion Matrix\n",
      "target_pred  2.0  4.0\n",
      "test_actual          \n",
      "2            141    2\n",
      "4              5   62\n"
     ]
    }
   ],
   "source": [
    "freq_table = pd.crosstab(test_actual['test_actual'], test_actual['target_pred'])\n",
    "print(\"Confusion Matrix\")\n",
    "print(freq_table)"
   ]
  },
  {
   "cell_type": "code",
   "execution_count": 10,
   "metadata": {},
   "outputs": [
    {
     "data": {
      "text/plain": [
       "Text(0.5, 1.0, 'Confusion Matrix')"
      ]
     },
     "execution_count": 10,
     "metadata": {},
     "output_type": "execute_result"
    },
    {
     "data": {
      "image/png": "[encoded data removed]",
      "text/plain": [
       "<Figure size 640x480 with 2 Axes>"
      ]
     },
     "metadata": {},
     "output_type": "display_data"
    }
   ],
   "source": [
    "ax= plt.subplot()\n",
    "sns.heatmap(cm, annot=True, fmt='g', ax=ax)\n",
    "\n",
    "# labels, title and ticks\n",
    "ax.set_xlabel('Predicted labels')\n",
    "ax.set_ylabel('True labels') \n",
    "ax.set_title('Confusion Matrix')"
   ]
  }
 ],
 "metadata": {
  "kernelspec": {
   "display_name": "venv (3.12.7)",
   "language": "python",
   "name": "python3"
  },
  "language_info": {
   "codemirror_mode": {
    "name": "ipython",
    "version": 3
   },
   "file_extension": ".py",
   "mimetype": "text/x-python",
   "name": "python",
   "nbconvert_exporter": "python",
   "pygments_lexer": "ipython3",
   "version": "3.12.7"
  }
 },
 "nbformat": 4,
 "nbformat_minor": 2
}
