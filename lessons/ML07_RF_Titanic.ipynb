{
 "cells": [
  {
   "cell_type": "code",
   "execution_count": null,
   "id": "27d09119",
   "metadata": {},
   "outputs": [],
   "source": [
    "import pandas as pd\n",
    "from sklearn.model_selection import train_test_split\n",
    "from sklearn.tree import DecisionTreeClassifier\n",
    "from sklearn.ensemble import RandomForestClassifier\n",
    "clf = DecisionTreeClassifier(criterion='entropy', max_depth=3)\n",
    "from sklearn.metrics import confusion_matrix, classification_report, accuracy_score\n",
    "import seaborn as sns\n",
    "import matplotlib.pyplot as plt\n",
    "from sklearn.tree import plot_tree"
   ]
  },
  {
   "cell_type": "code",
   "execution_count": null,
   "id": "04c626e1",
   "metadata": {},
   "outputs": [],
   "source": [
    "# Load Titanic dataset \n",
    "df = pd.read_csv('C:/Users/kdehn/OneDrive - stevens.edu/___Data/CSV_files/Titanic_rows.csv')\n",
    "\n",
    "print(df[df.isna().any(axis=1)]) # shows NaN values in data frame if it exists\n",
    "df.info()"
   ]
  },
  {
   "cell_type": "code",
   "execution_count": null,
   "id": "f52d37ee",
   "metadata": {},
   "outputs": [],
   "source": [
    "df_num= df.select_dtypes(exclude='object')\n",
    "df_obj= df.select_dtypes(include='object')\n",
    "df_num.info()\n",
    "df_obj.info()"
   ]
  },
  {
   "cell_type": "code",
   "execution_count": null,
   "id": "0580a368",
   "metadata": {},
   "outputs": [],
   "source": [
    "df_obj= pd.get_dummies(df_obj, drop_first=True)\n",
    "print(df_obj['Survived_Yes'].value_counts())\n",
    "print(df_obj['Survived_Yes'].value_counts())\n",
    "print( (df_obj['Survived_Yes'].value_counts()/ df_obj['Survived_Yes'].value_counts().sum()) * 100)\n",
    "sns.countplot(data=df_obj, x='Survived_Yes')\n",
    "df_obj.head()"
   ]
  },
  {
   "cell_type": "code",
   "execution_count": null,
   "id": "0b15b373",
   "metadata": {},
   "outputs": [],
   "source": [
    "attr = df_obj.drop('Survived_Yes', axis=1)\n",
    "target = df_obj['Survived_Yes']\n",
    "\n",
    "# Split the data into training and testing sets\n",
    "attr_train, attr_test, target_train, target_test = train_test_split(attr, target, test_size=0.2, random_state=77)"
   ]
  },
  {
   "cell_type": "code",
   "execution_count": null,
   "id": "17cf938b",
   "metadata": {},
   "outputs": [],
   "source": [
    "from sklearn.ensemble import RandomForestClassifier\n",
    "model = RandomForestClassifier(n_estimators=100,criterion='entropy', random_state=77)\n",
    "# model = RandomForestClassifier(n_estimators=100,criterion='gini', random_state=7)\n"
   ]
  },
  {
   "cell_type": "code",
   "execution_count": null,
   "id": "ccbf1390",
   "metadata": {},
   "outputs": [],
   "source": [
    "model.fit(attr_train,target_train)\n",
    "target_pred = model.predict(attr_test)\n",
    " "
   ]
  },
  {
   "cell_type": "code",
   "execution_count": null,
   "id": "5d1d1c19",
   "metadata": {},
   "outputs": [],
   "source": [
    "from sklearn.metrics import confusion_matrix, classification_report, accuracy_score\n",
    "print(f\"Accuracy= {accuracy_score(target_test,target_pred)}\")\n",
    "\n",
    "print(confusion_matrix(target_test,target_pred))\n",
    "print(classification_report(target_test,target_pred))"
   ]
  },
  {
   "cell_type": "code",
   "execution_count": null,
   "id": "a0a9abe1",
   "metadata": {},
   "outputs": [],
   "source": [
    "\n",
    "# Feature importance for Mean Decrease Accuracy\n",
    "feature_importance = model.feature_importances_\n",
    "# # Feature importance for Mean Decrease GINI or any impuritiy\n",
    " \n",
    "print(f\"feature importance: {feature_importance}\" )\n",
    "\n"
   ]
  },
  {
   "cell_type": "code",
   "execution_count": null,
   "id": "9c26a01d",
   "metadata": {},
   "outputs": [],
   "source": [
    "plt.figure(figsize=(10, 6))\n",
    "plt.barh(range(len(feature_importance)), feature_importance, align='center')\n",
    "plt.yticks(range(len(feature_importance)), attr.columns)\n",
    "plt.xlabel('Mean decrease in impurity')\n",
    "plt.title('Feature Importance - Mean decrease in impurity')\n",
    "plt.show()"
   ]
  },
  {
   "cell_type": "code",
   "execution_count": null,
   "id": "df636fab",
   "metadata": {},
   "outputs": [],
   "source": [
    "import numpy as np\n",
    "import pandas as pd\n",
    "from sklearn.model_selection import train_test_split\n",
    "from sklearn.ensemble import RandomForestClassifier\n",
    "from sklearn.metrics import accuracy_score\n",
    "import matplotlib.pyplot as plt"
   ]
  },
  {
   "cell_type": "code",
   "execution_count": null,
   "id": "fcd591d6",
   "metadata": {},
   "outputs": [],
   "source": [
    "# Calculate initial accuracy\n",
    "initial_accuracy = accuracy_score(target_test,target_pred)\n",
    "print(initial_accuracy)"
   ]
  },
  {
   "cell_type": "code",
   "execution_count": null,
   "id": "87139e6b",
   "metadata": {},
   "outputs": [],
   "source": [
    "feature_importances = []\n",
    "\n",
    "# Calculate Mean Decrease Accuracy for each feature\n",
    "\n",
    "for i in range(attr_test.shape[1]):\n",
    "    attr_test_permuted = attr_test.copy()\n",
    "    np.random.shuffle(attr_test_permuted.iloc[:, i].values)\n",
    "    permuted_accuracy = accuracy_score(target_test, model.predict(attr_test_permuted))\n",
    "    feature_importances.append(initial_accuracy - permuted_accuracy)\n",
    "    print( attr_test_permuted.columns[i],f\" reduction in accuracy {initial_accuracy - permuted_accuracy}\")\n",
    "\n",
    "# Create a DataFrame to display feature importances\n",
    "feature_importance_df = pd.DataFrame({'Feature': attr.columns, 'Importance': feature_importances})\n",
    "feature_importance_df = feature_importance_df.sort_values('Importance', ascending=False)\n",
    "\n",
    "# Plot feature importances\n",
    "plt.figure(figsize=(10, 6))\n",
    "plt.barh(feature_importance_df['Feature'], feature_importance_df['Importance'])\n",
    "plt.xlabel('Mean Decrease Accuracy')\n",
    "plt.ylabel('Feature')\n",
    "plt.title('Feature Importance based on Mean Decrease Accuracy')\n",
    "plt.show()\n",
    "\n",
    "print(feature_importance_df)"
   ]
  },
  {
   "cell_type": "code",
   "execution_count": null,
   "id": "23b89b5e",
   "metadata": {},
   "outputs": [],
   "source": [
    "single_tree = model.estimators_[1]\n",
    "import matplotlib.pyplot as plt\n",
    "from sklearn.tree import plot_tree\n",
    "\n",
    "plt.figure(figsize=(50,30), dpi=250)\n",
    "plot_tree(single_tree,fontsize=20,filled=True,feature_names=attr.columns);"
   ]
  }
 ],
 "metadata": {
  "kernelspec": {
   "display_name": "Python 3 (ipykernel)",
   "language": "python",
   "name": "python3"
  },
  "language_info": {
   "codemirror_mode": {
    "name": "ipython",
    "version": 3
   },
   "file_extension": ".py",
   "mimetype": "text/x-python",
   "name": "python",
   "nbconvert_exporter": "python",
   "pygments_lexer": "ipython3",
   "version": "3.10.9"
  }
 },
 "nbformat": 4,
 "nbformat_minor": 5
}
